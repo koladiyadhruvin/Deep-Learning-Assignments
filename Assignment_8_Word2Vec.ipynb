{
  "nbformat": 4,
  "nbformat_minor": 0,
  "metadata": {
    "colab": {
      "provenance": [],
      "gpuType": "T4"
    },
    "kernelspec": {
      "name": "python3",
      "display_name": "Python 3"
    },
    "language_info": {
      "name": "python"
    },
    "accelerator": "GPU"
  },
  "cells": [
    {
      "cell_type": "code",
      "execution_count": null,
      "metadata": {
        "id": "76JQxvU1pOvi"
      },
      "outputs": [],
      "source": [
        "import numpy as np\n",
        "import re\n",
        "import string\n",
        "import os\n",
        "import tqdm\n",
        "import tensorflow as tf\n",
        "from tensorflow import keras\n",
        "from keras import layers"
      ]
    },
    {
      "cell_type": "code",
      "source": [
        "SEED = 123\n",
        "AUTOTUNE = tf.data.AUTOTUNE"
      ],
      "metadata": {
        "id": "QtV0kND9tURX"
      },
      "execution_count": null,
      "outputs": []
    },
    {
      "cell_type": "code",
      "source": [
        "# Tokenize the sentance\n",
        "sentance = \"My favourite programming language is  the python\"\n",
        "tokens = list(sentance.lower().split())\n",
        "len(tokens)"
      ],
      "metadata": {
        "colab": {
          "base_uri": "https://localhost:8080/"
        },
        "id": "Lq6Mk9fcuThM",
        "outputId": "e67f9ddc-c5ad-4e60-a8de-15309a954559"
      },
      "execution_count": null,
      "outputs": [
        {
          "output_type": "execute_result",
          "data": {
            "text/plain": [
              "7"
            ]
          },
          "metadata": {},
          "execution_count": 3
        }
      ]
    },
    {
      "cell_type": "code",
      "source": [
        "vocab,index ={},1\n",
        "vocab['<pad>'] = 0\n",
        "for token in tokens:\n",
        "  if token not in vocab:\n",
        "    vocab[token] =index\n",
        "    index += 1\n",
        "vocab_size = len(vocab)\n",
        "vocab"
      ],
      "metadata": {
        "colab": {
          "base_uri": "https://localhost:8080/"
        },
        "id": "d5XpAkI6vA60",
        "outputId": "d792a03b-2274-44c2-8924-5e3315c3ead0"
      },
      "execution_count": null,
      "outputs": [
        {
          "output_type": "execute_result",
          "data": {
            "text/plain": [
              "{'<pad>': 0,\n",
              " 'my': 1,\n",
              " 'favourite': 2,\n",
              " 'programming': 3,\n",
              " 'language': 4,\n",
              " 'is': 5,\n",
              " 'the': 6,\n",
              " 'python': 7}"
            ]
          },
          "metadata": {},
          "execution_count": 4
        }
      ]
    },
    {
      "cell_type": "code",
      "source": [
        "inverse_vocab = {index: token for token,index in vocab.items()}\n",
        "inverse_vocab"
      ],
      "metadata": {
        "colab": {
          "base_uri": "https://localhost:8080/"
        },
        "id": "fhf-knKywOx4",
        "outputId": "e26224f7-b6e7-4141-f1d2-4be83de057e4"
      },
      "execution_count": null,
      "outputs": [
        {
          "output_type": "execute_result",
          "data": {
            "text/plain": [
              "{0: '<pad>',\n",
              " 1: 'my',\n",
              " 2: 'favourite',\n",
              " 3: 'programming',\n",
              " 4: 'language',\n",
              " 5: 'is',\n",
              " 6: 'the',\n",
              " 7: 'python'}"
            ]
          },
          "metadata": {},
          "execution_count": 5
        }
      ]
    },
    {
      "cell_type": "code",
      "source": [
        "# Vectorize the sentance\n",
        "example_sequence = [vocab[word] for word in tokens]\n",
        "example_sequence"
      ],
      "metadata": {
        "colab": {
          "base_uri": "https://localhost:8080/"
        },
        "id": "kOJDPauW4yZP",
        "outputId": "e87ffd13-d078-490d-b755-f39f1a8d86c1"
      },
      "execution_count": null,
      "outputs": [
        {
          "output_type": "execute_result",
          "data": {
            "text/plain": [
              "[1, 2, 3, 4, 5, 6, 7]"
            ]
          },
          "metadata": {},
          "execution_count": 6
        }
      ]
    },
    {
      "cell_type": "code",
      "source": [
        "# Generate skipgrams from one sentance\n",
        "window_size = 2\n",
        "positive_skip_grams , _ = keras.preprocessing.sequence.skipgrams(\n",
        "    example_sequence,\n",
        "    vocabulary_size=vocab_size,\n",
        "    window_size=window_size,\n",
        "    negative_samples=0)\n",
        "len(positive_skip_grams)"
      ],
      "metadata": {
        "colab": {
          "base_uri": "https://localhost:8080/"
        },
        "id": "bEDOusnUxlkC",
        "outputId": "5eba2bd5-ad19-4680-b792-a63befd1a2e5"
      },
      "execution_count": null,
      "outputs": [
        {
          "output_type": "execute_result",
          "data": {
            "text/plain": [
              "22"
            ]
          },
          "metadata": {},
          "execution_count": 7
        }
      ]
    },
    {
      "cell_type": "code",
      "execution_count": null,
      "metadata": {
        "id": "SCnqEukIE9pt",
        "colab": {
          "base_uri": "https://localhost:8080/"
        },
        "outputId": "7d3fa8d0-6023-43be-d5a4-c6bbeab422ce"
      },
      "outputs": [
        {
          "output_type": "stream",
          "name": "stdout",
          "text": [
            "(3, 2): (programming, favourite)\n",
            "(4, 6): (language, the)\n",
            "(1, 3): (my, programming)\n",
            "(5, 6): (is, the)\n",
            "(5, 7): (is, python)\n"
          ]
        }
      ],
      "source": [
        "for target, context in positive_skip_grams[:5]:\n",
        "  print(f\"({target}, {context}): ({inverse_vocab[target]}, {inverse_vocab[context]})\")"
      ]
    },
    {
      "cell_type": "code",
      "source": [
        "# Now negative sampling for one skipgrams\n",
        "target_word,context_word = positive_skip_grams[0]\n",
        "num_ns = 5\n",
        "\n",
        "context_class = tf.reshape(tf.constant(context_word,dtype='int64'),(1,1))\n",
        "negative_sampling_candidates,_,_ = tf.random.log_uniform_candidate_sampler(\n",
        "    true_classes=context_class,\n",
        "    num_true = 1,\n",
        "    num_sampled = num_ns,\n",
        "    unique = True,\n",
        "    range_max = vocab_size,\n",
        "    seed = SEED,\n",
        "    name = 'negative_sampling'\n",
        ")\n",
        "\n",
        "print(negative_sampling_candidates)\n",
        "print([inverse_vocab[index.numpy()] for index in negative_sampling_candidates])"
      ],
      "metadata": {
        "colab": {
          "base_uri": "https://localhost:8080/"
        },
        "id": "lLMqQrzS6P_k",
        "outputId": "d1e66cb8-e603-4172-d162-4886d825b391"
      },
      "execution_count": null,
      "outputs": [
        {
          "output_type": "stream",
          "name": "stdout",
          "text": [
            "tf.Tensor([1 4 3 2 0], shape=(5,), dtype=int64)\n",
            "['my', 'language', 'programming', 'favourite', '<pad>']\n"
          ]
        }
      ]
    },
    {
      "cell_type": "code",
      "source": [
        "squeezed_context_class = tf.squeeze(context_class,1)\n",
        "context = tf.concat([squeezed_context_class,negative_sampling_candidates],0)\n",
        "label = tf.constant([1]+[0]*num_ns,dtype = 'int64')\n",
        "target = target_word"
      ],
      "metadata": {
        "id": "1z9oHrNM6nop"
      },
      "execution_count": null,
      "outputs": []
    },
    {
      "cell_type": "code",
      "execution_count": null,
      "metadata": {
        "id": "tzyCPCuZwmdL",
        "outputId": "e3ae1c9c-6a34-4955-a502-258a4cfc2bb9",
        "colab": {
          "base_uri": "https://localhost:8080/"
        }
      },
      "outputs": [
        {
          "output_type": "stream",
          "name": "stdout",
          "text": [
            "target_index    : 3\n",
            "target_word     : programming\n",
            "context_indices : [2 1 4 3 2 0]\n",
            "context_words   : ['favourite', 'my', 'language', 'programming', 'favourite', '<pad>']\n",
            "label           : [1 0 0 0 0 0]\n"
          ]
        }
      ],
      "source": [
        "print(f\"target_index    : {target}\")\n",
        "print(f\"target_word     : {inverse_vocab[target_word]}\")\n",
        "print(f\"context_indices : {context}\")\n",
        "print(f\"context_words   : {[inverse_vocab[c.numpy()] for c in context]}\")\n",
        "print(f\"label           : {label}\")"
      ]
    },
    {
      "cell_type": "code",
      "execution_count": null,
      "metadata": {
        "id": "x-FwkR8jx9-Z",
        "outputId": "1b9fe26a-2819-410e-ec7f-b22b79f31b04",
        "colab": {
          "base_uri": "https://localhost:8080/"
        }
      },
      "outputs": [
        {
          "output_type": "stream",
          "name": "stdout",
          "text": [
            "target  : 3\n",
            "context : tf.Tensor([2 1 4 3 2 0], shape=(6,), dtype=int64)\n",
            "label   : tf.Tensor([1 0 0 0 0 0], shape=(6,), dtype=int64)\n"
          ]
        }
      ],
      "source": [
        "print(\"target  :\", target)\n",
        "print(\"context :\", context)\n",
        "print(\"label   :\", label)"
      ]
    },
    {
      "cell_type": "code",
      "source": [
        "# skip-gram sampling table\n",
        "sample_table = keras.preprocessing.sequence.make_sampling_table(size=10)\n",
        "sample_table"
      ],
      "metadata": {
        "colab": {
          "base_uri": "https://localhost:8080/"
        },
        "id": "X6K7qeWk_UTY",
        "outputId": "35947cc8-3141-4c7b-faf3-cc6b59b3da42"
      },
      "execution_count": null,
      "outputs": [
        {
          "output_type": "execute_result",
          "data": {
            "text/plain": [
              "array([0.00315225, 0.00315225, 0.00547597, 0.00741556, 0.00912817,\n",
              "       0.01068435, 0.01212381, 0.01347162, 0.01474487, 0.0159558 ])"
            ]
          },
          "metadata": {},
          "execution_count": 16
        }
      ]
    },
    {
      "cell_type": "code",
      "execution_count": null,
      "metadata": {
        "id": "63INISDEX1Hu"
      },
      "outputs": [],
      "source": [
        "# Now Generate training data\n",
        "def generate_training_data(sequences, window_size, num_ns, vocab_size, seed):\n",
        "  targets, contexts, labels = [], [], []\n",
        "  sampling_table = tf.keras.preprocessing.sequence.make_sampling_table(vocab_size)\n",
        "  for sequence in tqdm.tqdm(sequences):\n",
        "    positive_skip_grams, _ = tf.keras.preprocessing.sequence.skipgrams(\n",
        "          sequence,\n",
        "          vocabulary_size=vocab_size,\n",
        "          sampling_table=sampling_table,\n",
        "          window_size=window_size,\n",
        "          negative_samples=0)\n",
        "\n",
        "    for target_word, context_word in positive_skip_grams:\n",
        "      context_class = tf.expand_dims(\n",
        "          tf.constant([context_word], dtype=\"int64\"), 1)\n",
        "      negative_sampling_candidates, _, _ = tf.random.log_uniform_candidate_sampler(\n",
        "          true_classes=context_class,\n",
        "          num_true=1,\n",
        "          num_sampled=num_ns,\n",
        "          unique=True,\n",
        "          range_max=vocab_size,\n",
        "          seed=seed,\n",
        "          name=\"negative_sampling\")\n",
        "\n",
        "      context = tf.concat([tf.squeeze(context_class,1), negative_sampling_candidates], 0)\n",
        "      label = tf.constant([1] + [0]*num_ns, dtype=\"int64\")\n",
        "\n",
        "      targets.append(target_word)\n",
        "      contexts.append(context)\n",
        "      labels.append(label)\n",
        "\n",
        "  return targets, contexts, labels"
      ]
    },
    {
      "cell_type": "code",
      "source": [
        "path_to_file = tf.keras.utils.get_file('shakespeare.txt', 'https://storage.googleapis.com/download.tensorflow.org/data/shakespeare.txt')"
      ],
      "metadata": {
        "colab": {
          "base_uri": "https://localhost:8080/"
        },
        "id": "g9Z-Ka60CL-6",
        "outputId": "9a8313a1-5d0a-4fae-9220-f447e9c76e49"
      },
      "execution_count": null,
      "outputs": [
        {
          "output_type": "stream",
          "name": "stdout",
          "text": [
            "Downloading data from https://storage.googleapis.com/download.tensorflow.org/data/shakespeare.txt\n",
            "1115394/1115394 [==============================] - 0s 0us/step\n"
          ]
        }
      ]
    },
    {
      "cell_type": "code",
      "source": [
        "with open(path_to_file) as f:\n",
        "  lines = f.read().splitlines()\n",
        "for line in lines[:20]:\n",
        "  print(line)"
      ],
      "metadata": {
        "colab": {
          "base_uri": "https://localhost:8080/"
        },
        "id": "R858HWTTCMMD",
        "outputId": "0c9cc465-f9d3-4c6f-8779-2acbad502b82"
      },
      "execution_count": null,
      "outputs": [
        {
          "output_type": "stream",
          "name": "stdout",
          "text": [
            "First Citizen:\n",
            "Before we proceed any further, hear me speak.\n",
            "\n",
            "All:\n",
            "Speak, speak.\n",
            "\n",
            "First Citizen:\n",
            "You are all resolved rather to die than to famish?\n",
            "\n",
            "All:\n",
            "Resolved. resolved.\n",
            "\n",
            "First Citizen:\n",
            "First, you know Caius Marcius is chief enemy to the people.\n",
            "\n",
            "All:\n",
            "We know't, we know't.\n",
            "\n",
            "First Citizen:\n",
            "Let us kill him, and we'll have corn at our own price.\n"
          ]
        }
      ]
    },
    {
      "cell_type": "code",
      "source": [
        "text_ds = tf.data.TextLineDataset(path_to_file).filter(lambda x: tf.cast(tf.strings.length(x), bool))"
      ],
      "metadata": {
        "id": "_hscLKTYCMOz"
      },
      "execution_count": null,
      "outputs": []
    },
    {
      "cell_type": "code",
      "source": [
        "# Now, create a custom standardization function to lowercase the text and remove punctuation.\n",
        "def custom_standardization(input_data):\n",
        "  lowercase = tf.strings.lower(input_data)\n",
        "  return tf.strings.regex_replace(lowercase,\n",
        "                                  '[%s]' % re.escape(string.punctuation), '')\n",
        "\n",
        "vocab_size = 4096\n",
        "sequence_length = 10\n",
        "\n",
        "vectorize_layer = layers.TextVectorization(\n",
        "    standardize=custom_standardization,\n",
        "    max_tokens=vocab_size,\n",
        "    output_mode='int',\n",
        "    output_sequence_length=sequence_length)"
      ],
      "metadata": {
        "id": "wcw7n2gZCMSY"
      },
      "execution_count": null,
      "outputs": []
    },
    {
      "cell_type": "code",
      "source": [
        "vectorize_layer.adapt(text_ds.batch(1024))"
      ],
      "metadata": {
        "id": "UUOuf-31CMVZ"
      },
      "execution_count": null,
      "outputs": []
    },
    {
      "cell_type": "code",
      "source": [
        "inverse_vocab = vectorize_layer.get_vocabulary()\n",
        "print(inverse_vocab[:20])"
      ],
      "metadata": {
        "colab": {
          "base_uri": "https://localhost:8080/"
        },
        "id": "zJZxlqWkCMYr",
        "outputId": "cbc8873f-abe8-49a7-d726-66010d7d8462"
      },
      "execution_count": null,
      "outputs": [
        {
          "output_type": "stream",
          "name": "stdout",
          "text": [
            "['', '[UNK]', 'the', 'and', 'to', 'i', 'of', 'you', 'my', 'a', 'that', 'in', 'is', 'not', 'for', 'with', 'me', 'it', 'be', 'your']\n"
          ]
        }
      ]
    },
    {
      "cell_type": "code",
      "source": [
        "text_vector_ds = text_ds.batch(1024).prefetch(AUTOTUNE).map(vectorize_layer).unbatch()"
      ],
      "metadata": {
        "id": "bOgmAkXADfZl"
      },
      "execution_count": null,
      "outputs": []
    },
    {
      "cell_type": "code",
      "source": [
        "sequences = list(text_vector_ds.as_numpy_iterator())\n",
        "print(len(sequences))"
      ],
      "metadata": {
        "colab": {
          "base_uri": "https://localhost:8080/"
        },
        "id": "8fCpAw7yDfc5",
        "outputId": "13f83a63-4da5-460d-ca95-84947aa6a417"
      },
      "execution_count": null,
      "outputs": [
        {
          "output_type": "stream",
          "name": "stdout",
          "text": [
            "32777\n"
          ]
        }
      ]
    },
    {
      "cell_type": "code",
      "source": [
        "for seq in sequences[:5]:\n",
        "  print(f\"{seq} => {[inverse_vocab[i] for i in seq]}\")"
      ],
      "metadata": {
        "colab": {
          "base_uri": "https://localhost:8080/"
        },
        "id": "aJZ9hMcPDfgY",
        "outputId": "b3027fbb-899d-43ed-d419-0253f0711644"
      },
      "execution_count": null,
      "outputs": [
        {
          "output_type": "stream",
          "name": "stdout",
          "text": [
            "[ 89 270   0   0   0   0   0   0   0   0] => ['first', 'citizen', '', '', '', '', '', '', '', '']\n",
            "[138  36 982 144 673 125  16 106   0   0] => ['before', 'we', 'proceed', 'any', 'further', 'hear', 'me', 'speak', '', '']\n",
            "[34  0  0  0  0  0  0  0  0  0] => ['all', '', '', '', '', '', '', '', '', '']\n",
            "[106 106   0   0   0   0   0   0   0   0] => ['speak', 'speak', '', '', '', '', '', '', '', '']\n",
            "[ 89 270   0   0   0   0   0   0   0   0] => ['first', 'citizen', '', '', '', '', '', '', '', '']\n"
          ]
        }
      ]
    },
    {
      "cell_type": "code",
      "execution_count": null,
      "metadata": {
        "id": "44DJ22M6nX5o",
        "outputId": "62f1cfdf-b8c3-4831-8fd4-7ee6c43b8ea0",
        "colab": {
          "base_uri": "https://localhost:8080/"
        }
      },
      "outputs": [
        {
          "output_type": "stream",
          "name": "stderr",
          "text": [
            "100%|██████████| 32777/32777 [01:11<00:00, 456.20it/s]\n"
          ]
        },
        {
          "output_type": "stream",
          "name": "stdout",
          "text": [
            "\n",
            "\n",
            "targets.shape: (64610,)\n",
            "contexts.shape: (64610, 5)\n",
            "labels.shape: (64610, 5)\n"
          ]
        }
      ],
      "source": [
        "targets, contexts, labels = generate_training_data(\n",
        "    sequences=sequences,\n",
        "    window_size=2,\n",
        "    num_ns=4,\n",
        "    vocab_size=vocab_size,\n",
        "    seed=SEED)\n",
        "\n",
        "targets = np.array(targets)\n",
        "contexts = np.array(contexts)\n",
        "labels = np.array(labels)\n",
        "\n",
        "print('\\n')\n",
        "print(f\"targets.shape: {targets.shape}\")\n",
        "print(f\"contexts.shape: {contexts.shape}\")\n",
        "print(f\"labels.shape: {labels.shape}\")\n"
      ]
    },
    {
      "cell_type": "code",
      "source": [
        "BATCH_SIZE = 1024\n",
        "BUFFER_SIZE = 10000\n",
        "dataset = tf.data.Dataset.from_tensor_slices(((targets, contexts), labels))\n",
        "dataset = dataset.shuffle(BUFFER_SIZE).batch(BATCH_SIZE, drop_remainder=True)\n",
        "print(dataset)"
      ],
      "metadata": {
        "colab": {
          "base_uri": "https://localhost:8080/"
        },
        "id": "spUXA5pNBwXr",
        "outputId": "1a1b81b3-8239-416e-d773-50b3e40a7ff8"
      },
      "execution_count": null,
      "outputs": [
        {
          "output_type": "stream",
          "name": "stdout",
          "text": [
            "<_BatchDataset element_spec=((TensorSpec(shape=(1024,), dtype=tf.int64, name=None), TensorSpec(shape=(1024, 5), dtype=tf.int64, name=None)), TensorSpec(shape=(1024, 5), dtype=tf.int64, name=None))>\n"
          ]
        }
      ]
    },
    {
      "cell_type": "code",
      "source": [
        "dataset = dataset.cache().prefetch(buffer_size=AUTOTUNE)\n",
        "print(dataset)"
      ],
      "metadata": {
        "colab": {
          "base_uri": "https://localhost:8080/"
        },
        "id": "gTS7AyY2EDM3",
        "outputId": "92f4bc10-6ff4-4156-d46c-d8756437c8c3"
      },
      "execution_count": null,
      "outputs": [
        {
          "output_type": "stream",
          "name": "stdout",
          "text": [
            "<_PrefetchDataset element_spec=((TensorSpec(shape=(1024,), dtype=tf.int64, name=None), TensorSpec(shape=(1024, 5), dtype=tf.int64, name=None)), TensorSpec(shape=(1024, 5), dtype=tf.int64, name=None))>\n"
          ]
        }
      ]
    },
    {
      "cell_type": "code",
      "source": [
        "# subclass word2vec model\n",
        "class Word2vec(keras.Model):\n",
        "  def __init__(self,vocab_size,embedding_dim):\n",
        "    super(Word2vec,self).__init__()\n",
        "    self.target_embedding = layers.Embedding(vocab_size,embedding_dim,input_length=1,name='w2v_embedding')\n",
        "    self.context_embedding = layers.Embedding(vocab_size,embedding_dim,input_length=num_ns+1)\n",
        "\n",
        "  def call(self,pair):\n",
        "    target,context = pair\n",
        "    if len(target.shape) ==2:\n",
        "      target = tf.squeeze(target,axis=1)\n",
        "    word_emb = self.target_embedding(target)\n",
        "    context_emb = self.context_embedding(context)\n",
        "    dots = tf.einsum('be,bce->bc', word_emb, context_emb)\n",
        "    return dots"
      ],
      "metadata": {
        "id": "dTBY2RLlEDQZ"
      },
      "execution_count": null,
      "outputs": []
    },
    {
      "cell_type": "code",
      "source": [
        "embedding_dim = 128\n",
        "word2vec = Word2vec(vocab_size, embedding_dim)\n",
        "word2vec.compile(optimizer='adam',\n",
        "                 loss=tf.keras.losses.CategoricalCrossentropy(from_logits=True),\n",
        "                 metrics=['accuracy'])"
      ],
      "metadata": {
        "id": "z0WG2vvCEDTo"
      },
      "execution_count": null,
      "outputs": []
    },
    {
      "cell_type": "code",
      "source": [
        "word2vec.fit(dataset,epochs=20)"
      ],
      "metadata": {
        "colab": {
          "base_uri": "https://localhost:8080/"
        },
        "id": "_0lh4B2HGwwn",
        "outputId": "83b235a3-cb0f-47af-aa0f-693e0c959128"
      },
      "execution_count": null,
      "outputs": [
        {
          "output_type": "stream",
          "name": "stdout",
          "text": [
            "Epoch 1/20\n",
            "63/63 [==============================] - 23s 289ms/step - loss: 1.6082 - accuracy: 0.2296\n",
            "Epoch 2/20\n",
            "63/63 [==============================] - 0s 3ms/step - loss: 1.5887 - accuracy: 0.5501\n",
            "Epoch 3/20\n",
            "63/63 [==============================] - 0s 3ms/step - loss: 1.5414 - accuracy: 0.5868\n",
            "Epoch 4/20\n",
            "63/63 [==============================] - 0s 3ms/step - loss: 1.4611 - accuracy: 0.5607\n",
            "Epoch 5/20\n",
            "63/63 [==============================] - 0s 3ms/step - loss: 1.3652 - accuracy: 0.5727\n",
            "Epoch 6/20\n",
            "63/63 [==============================] - 0s 3ms/step - loss: 1.2686 - accuracy: 0.6028\n",
            "Epoch 7/20\n",
            "63/63 [==============================] - 0s 3ms/step - loss: 1.1772 - accuracy: 0.6381\n",
            "Epoch 8/20\n",
            "63/63 [==============================] - 0s 3ms/step - loss: 1.0921 - accuracy: 0.6735\n",
            "Epoch 9/20\n",
            "63/63 [==============================] - 0s 3ms/step - loss: 1.0131 - accuracy: 0.7074\n",
            "Epoch 10/20\n",
            "63/63 [==============================] - 0s 3ms/step - loss: 0.9396 - accuracy: 0.7363\n",
            "Epoch 11/20\n",
            "63/63 [==============================] - 0s 3ms/step - loss: 0.8716 - accuracy: 0.7625\n",
            "Epoch 12/20\n",
            "63/63 [==============================] - 0s 3ms/step - loss: 0.8088 - accuracy: 0.7864\n",
            "Epoch 13/20\n",
            "63/63 [==============================] - 0s 3ms/step - loss: 0.7511 - accuracy: 0.8065\n",
            "Epoch 14/20\n",
            "63/63 [==============================] - 0s 3ms/step - loss: 0.6982 - accuracy: 0.8244\n",
            "Epoch 15/20\n",
            "63/63 [==============================] - 0s 3ms/step - loss: 0.6498 - accuracy: 0.8397\n",
            "Epoch 16/20\n",
            "63/63 [==============================] - 0s 3ms/step - loss: 0.6056 - accuracy: 0.8531\n",
            "Epoch 17/20\n",
            "63/63 [==============================] - 0s 3ms/step - loss: 0.5654 - accuracy: 0.8659\n",
            "Epoch 18/20\n",
            "63/63 [==============================] - 0s 3ms/step - loss: 0.5289 - accuracy: 0.8774\n",
            "Epoch 19/20\n",
            "63/63 [==============================] - 0s 3ms/step - loss: 0.4957 - accuracy: 0.8869\n",
            "Epoch 20/20\n",
            "63/63 [==============================] - 0s 3ms/step - loss: 0.4655 - accuracy: 0.8962\n"
          ]
        },
        {
          "output_type": "execute_result",
          "data": {
            "text/plain": [
              "<keras.src.callbacks.History at 0x7e69d7399870>"
            ]
          },
          "metadata": {},
          "execution_count": 36
        }
      ]
    },
    {
      "cell_type": "code",
      "source": [],
      "metadata": {
        "id": "amnSRVVvG8uH"
      },
      "execution_count": null,
      "outputs": []
    }
  ]
}