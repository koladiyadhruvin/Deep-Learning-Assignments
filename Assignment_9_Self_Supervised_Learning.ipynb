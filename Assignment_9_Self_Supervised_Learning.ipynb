{
  "nbformat": 4,
  "nbformat_minor": 0,
  "metadata": {
    "colab": {
      "provenance": [],
      "gpuType": "T4"
    },
    "kernelspec": {
      "name": "python3",
      "display_name": "Python 3"
    },
    "language_info": {
      "name": "python"
    },
    "accelerator": "GPU"
  },
  "cells": [
    {
      "cell_type": "code",
      "source": [
        "# import necessary libraries\n",
        "import numpy as np\n",
        "import os\n",
        "import tensorflow as tf\n",
        "from tensorflow import keras\n",
        "from keras.layers import Conv2D,Dense,Input,Flatten,Reshape\n",
        "from keras.models import Model"
      ],
      "metadata": {
        "id": "5dT9kVc33jdc"
      },
      "execution_count": 1,
      "outputs": []
    },
    {
      "cell_type": "code",
      "source": [
        "# Load datasets and reshape it\n",
        "(x_train,y_train),(x_test,y_test) = keras.datasets.mnist.load_data()\n",
        "\n",
        "x_train = x_train.astype('float32') / 255.0\n",
        "x_test = x_test.astype('float32') / 255.0"
      ],
      "metadata": {
        "colab": {
          "base_uri": "https://localhost:8080/"
        },
        "id": "wYLlLP107Uzu",
        "outputId": "7533b0c1-27b9-40a6-9a4c-9c4ecedbaa30"
      },
      "execution_count": 2,
      "outputs": [
        {
          "output_type": "stream",
          "name": "stdout",
          "text": [
            "Downloading data from https://storage.googleapis.com/tensorflow/tf-keras-datasets/mnist.npz\n",
            "11490434/11490434 [==============================] - 0s 0us/step\n"
          ]
        }
      ]
    },
    {
      "cell_type": "code",
      "source": [
        "# Build Autoencoder Model\n",
        "\n",
        "input_shape = (28,28,1)\n",
        "latent_dim = 32\n",
        "\n",
        "# Encoder\n",
        "inputs = Input(shape=input_shape)\n",
        "x = Conv2D(32,(3,3),activation='relu',padding='same')(inputs)\n",
        "x = Flatten()(x)\n",
        "encoded = Dense(latent_dim)(x)\n",
        "\n",
        "# Decoder\n",
        "x = Dense(28* 28* 32)(encoded)\n",
        "x = Reshape((28,28,32))(x)\n",
        "x = Conv2D(32,(3,3),activation='relu',padding='same')(x)\n",
        "decoded = Conv2D(1,(3,3),activation='sigmoid',padding='same')(x)\n",
        "\n",
        "autoencoder = Model(inputs,decoded)\n",
        "autoencoder.compile(optimizer='adam',loss='mean_squared_error',metrics=['accuracy'])"
      ],
      "metadata": {
        "id": "jJ7-J5oIDEMj"
      },
      "execution_count": 3,
      "outputs": []
    },
    {
      "cell_type": "code",
      "source": [
        "# Train autoencoder model\n",
        "autoencoder.fit(x_train.reshape(-1,28,28,1),y_train,epochs=10,batch_size=128,shuffle=True,validation_data=(x_test.reshape(-1,28,28,1),y_test))"
      ],
      "metadata": {
        "colab": {
          "base_uri": "https://localhost:8080/"
        },
        "id": "HMj1e5pJF6-e",
        "outputId": "4ebc993b-c006-4953-8b96-e0845c26e192"
      },
      "execution_count": 4,
      "outputs": [
        {
          "output_type": "stream",
          "name": "stdout",
          "text": [
            "Epoch 1/10\n",
            "469/469 [==============================] - 17s 15ms/step - loss: 20.3125 - accuracy: 0.1123 - val_loss: 20.2422 - val_accuracy: 0.1135\n",
            "Epoch 2/10\n",
            "469/469 [==============================] - 7s 14ms/step - loss: 20.2774 - accuracy: 0.1124 - val_loss: 20.2422 - val_accuracy: 0.1135\n",
            "Epoch 3/10\n",
            "469/469 [==============================] - 6s 14ms/step - loss: 20.2774 - accuracy: 0.1124 - val_loss: 20.2422 - val_accuracy: 0.1135\n",
            "Epoch 4/10\n",
            "469/469 [==============================] - 7s 15ms/step - loss: 20.2774 - accuracy: 0.1124 - val_loss: 20.2422 - val_accuracy: 0.1135\n",
            "Epoch 5/10\n",
            "469/469 [==============================] - 7s 14ms/step - loss: 20.2774 - accuracy: 0.1124 - val_loss: 20.2422 - val_accuracy: 0.1135\n",
            "Epoch 6/10\n",
            "469/469 [==============================] - 7s 15ms/step - loss: 20.2774 - accuracy: 0.1124 - val_loss: 20.2422 - val_accuracy: 0.1135\n",
            "Epoch 7/10\n",
            "469/469 [==============================] - 7s 15ms/step - loss: 20.2774 - accuracy: 0.1124 - val_loss: 20.2422 - val_accuracy: 0.1135\n",
            "Epoch 8/10\n",
            "469/469 [==============================] - 7s 14ms/step - loss: 20.2774 - accuracy: 0.1124 - val_loss: 20.2422 - val_accuracy: 0.1135\n",
            "Epoch 9/10\n",
            "469/469 [==============================] - 7s 15ms/step - loss: 20.2774 - accuracy: 0.1124 - val_loss: 20.2422 - val_accuracy: 0.1135\n",
            "Epoch 10/10\n",
            "469/469 [==============================] - 7s 14ms/step - loss: 20.2774 - accuracy: 0.1124 - val_loss: 20.2422 - val_accuracy: 0.1135\n"
          ]
        },
        {
          "output_type": "execute_result",
          "data": {
            "text/plain": [
              "<keras.src.callbacks.History at 0x7816f2f222c0>"
            ]
          },
          "metadata": {},
          "execution_count": 4
        }
      ]
    },
    {
      "cell_type": "code",
      "source": [
        "# Now Extract features and build classification head\n",
        "encoder = Model(inputs,encoded)\n",
        "encoder.compile(optimizer='adam',loss='mean_squared_error',metrics=['accuracy'])\n",
        "encoder.fit(x_train.reshape(-1,28,28,1),y_train,epochs=5,batch_size=128,shuffle=True,validation_data=(x_test.reshape(-1,28,28,1),y_test))"
      ],
      "metadata": {
        "colab": {
          "base_uri": "https://localhost:8080/"
        },
        "id": "8xVEm__9HKh8",
        "outputId": "0f660a42-d992-4be6-cf32-6c0067398571"
      },
      "execution_count": 5,
      "outputs": [
        {
          "output_type": "stream",
          "name": "stdout",
          "text": [
            "Epoch 1/5\n",
            "469/469 [==============================] - 3s 5ms/step - loss: 7.8463 - accuracy: 0.0437 - val_loss: 2.4262 - val_accuracy: 0.0582\n",
            "Epoch 2/5\n",
            "469/469 [==============================] - 2s 5ms/step - loss: 2.1059 - accuracy: 0.0415 - val_loss: 1.8004 - val_accuracy: 0.0284\n",
            "Epoch 3/5\n",
            "469/469 [==============================] - 2s 5ms/step - loss: 1.7331 - accuracy: 0.0436 - val_loss: 1.6174 - val_accuracy: 0.0493\n",
            "Epoch 4/5\n",
            "469/469 [==============================] - 2s 5ms/step - loss: 1.5936 - accuracy: 0.0456 - val_loss: 1.5300 - val_accuracy: 0.0337\n",
            "Epoch 5/5\n",
            "469/469 [==============================] - 3s 6ms/step - loss: 1.5074 - accuracy: 0.0450 - val_loss: 1.4749 - val_accuracy: 0.0431\n"
          ]
        },
        {
          "output_type": "execute_result",
          "data": {
            "text/plain": [
              "<keras.src.callbacks.History at 0x7816dc2a31f0>"
            ]
          },
          "metadata": {},
          "execution_count": 5
        }
      ]
    },
    {
      "cell_type": "markdown",
      "source": [
        "This loss won't be optimised"
      ],
      "metadata": {
        "id": "PB_sN3EkMgD9"
      }
    },
    {
      "cell_type": "code",
      "source": [
        "# Classiication head on the top of encoder\n",
        "classification_inputs = Input(shape=(latent_dim,))\n",
        "x = Dense(64,activation='relu')(classification_inputs)\n",
        "outputs = Dense(10,activation='softmax')(x)\n",
        "\n",
        "classifier = Model(classification_inputs,outputs)\n",
        "classifier.compile(optimizer='adam',loss='sparse_categorical_crossentropy',metrics=['accuracy'])"
      ],
      "metadata": {
        "id": "EUtONS52ItLU"
      },
      "execution_count": 6,
      "outputs": []
    },
    {
      "cell_type": "code",
      "source": [
        "# Train classification model\n",
        "encoded_train_features = encoder.predict(x_train.reshape(-1,28,28,1))\n",
        "encoded_test_features = encoder.predict(x_test.reshape(-1,28,28,1))\n",
        "\n",
        "classifier.fit(encoded_train_features,y_train,epochs=100,shuffle=True,batch_size=128,validation_data=(encoded_test_features,y_test))"
      ],
      "metadata": {
        "colab": {
          "base_uri": "https://localhost:8080/"
        },
        "id": "OqWeo2H0Muyf",
        "outputId": "9631b776-95e2-472c-de43-8e72b9f8dd8a"
      },
      "execution_count": 7,
      "outputs": [
        {
          "output_type": "stream",
          "name": "stdout",
          "text": [
            "1875/1875 [==============================] - 3s 2ms/step\n",
            "313/313 [==============================] - 1s 2ms/step\n",
            "Epoch 1/100\n",
            "469/469 [==============================] - 2s 3ms/step - loss: 2.0945 - accuracy: 0.2053 - val_loss: 1.8495 - val_accuracy: 0.2996\n",
            "Epoch 2/100\n",
            "469/469 [==============================] - 1s 3ms/step - loss: 1.6655 - accuracy: 0.3508 - val_loss: 1.5476 - val_accuracy: 0.3568\n",
            "Epoch 3/100\n",
            "469/469 [==============================] - 2s 4ms/step - loss: 1.4849 - accuracy: 0.4092 - val_loss: 1.4608 - val_accuracy: 0.4176\n",
            "Epoch 4/100\n",
            "469/469 [==============================] - 2s 4ms/step - loss: 1.4282 - accuracy: 0.4325 - val_loss: 1.4139 - val_accuracy: 0.4372\n",
            "Epoch 5/100\n",
            "469/469 [==============================] - 2s 3ms/step - loss: 1.4085 - accuracy: 0.4400 - val_loss: 1.4125 - val_accuracy: 0.4495\n",
            "Epoch 6/100\n",
            "469/469 [==============================] - 1s 3ms/step - loss: 1.3962 - accuracy: 0.4496 - val_loss: 1.4127 - val_accuracy: 0.4433\n",
            "Epoch 7/100\n",
            "469/469 [==============================] - 2s 3ms/step - loss: 1.3937 - accuracy: 0.4496 - val_loss: 1.4237 - val_accuracy: 0.4326\n",
            "Epoch 8/100\n",
            "469/469 [==============================] - 1s 3ms/step - loss: 1.3889 - accuracy: 0.4523 - val_loss: 1.3973 - val_accuracy: 0.4474\n",
            "Epoch 9/100\n",
            "469/469 [==============================] - 1s 3ms/step - loss: 1.3917 - accuracy: 0.4499 - val_loss: 1.4197 - val_accuracy: 0.4270\n",
            "Epoch 10/100\n",
            "469/469 [==============================] - 2s 4ms/step - loss: 1.3848 - accuracy: 0.4547 - val_loss: 1.3853 - val_accuracy: 0.4656\n",
            "Epoch 11/100\n",
            "469/469 [==============================] - 2s 4ms/step - loss: 1.3869 - accuracy: 0.4553 - val_loss: 1.4458 - val_accuracy: 0.4302\n",
            "Epoch 12/100\n",
            "469/469 [==============================] - 2s 3ms/step - loss: 1.3789 - accuracy: 0.4613 - val_loss: 1.3879 - val_accuracy: 0.4727\n",
            "Epoch 13/100\n",
            "469/469 [==============================] - 1s 3ms/step - loss: 1.3832 - accuracy: 0.4559 - val_loss: 1.4114 - val_accuracy: 0.4419\n",
            "Epoch 14/100\n",
            "469/469 [==============================] - 1s 3ms/step - loss: 1.3778 - accuracy: 0.4618 - val_loss: 1.3791 - val_accuracy: 0.4705\n",
            "Epoch 15/100\n",
            "469/469 [==============================] - 1s 3ms/step - loss: 1.3737 - accuracy: 0.4639 - val_loss: 1.3964 - val_accuracy: 0.4538\n",
            "Epoch 16/100\n",
            "469/469 [==============================] - 1s 3ms/step - loss: 1.3753 - accuracy: 0.4614 - val_loss: 1.3735 - val_accuracy: 0.4757\n",
            "Epoch 17/100\n",
            "469/469 [==============================] - 1s 3ms/step - loss: 1.3717 - accuracy: 0.4632 - val_loss: 1.3910 - val_accuracy: 0.4679\n",
            "Epoch 18/100\n",
            "469/469 [==============================] - 2s 3ms/step - loss: 1.3721 - accuracy: 0.4655 - val_loss: 1.3771 - val_accuracy: 0.4720\n",
            "Epoch 19/100\n",
            "469/469 [==============================] - 2s 4ms/step - loss: 1.3719 - accuracy: 0.4639 - val_loss: 1.3873 - val_accuracy: 0.4640\n",
            "Epoch 20/100\n",
            "469/469 [==============================] - 1s 3ms/step - loss: 1.3697 - accuracy: 0.4661 - val_loss: 1.3689 - val_accuracy: 0.4808\n",
            "Epoch 21/100\n",
            "469/469 [==============================] - 1s 3ms/step - loss: 1.3671 - accuracy: 0.4664 - val_loss: 1.3781 - val_accuracy: 0.4693\n",
            "Epoch 22/100\n",
            "469/469 [==============================] - 1s 3ms/step - loss: 1.3667 - accuracy: 0.4674 - val_loss: 1.3727 - val_accuracy: 0.4649\n",
            "Epoch 23/100\n",
            "469/469 [==============================] - 1s 3ms/step - loss: 1.3661 - accuracy: 0.4690 - val_loss: 1.3679 - val_accuracy: 0.4786\n",
            "Epoch 24/100\n",
            "469/469 [==============================] - 2s 3ms/step - loss: 1.3655 - accuracy: 0.4678 - val_loss: 1.3896 - val_accuracy: 0.4597\n",
            "Epoch 25/100\n",
            "469/469 [==============================] - 2s 4ms/step - loss: 1.3656 - accuracy: 0.4667 - val_loss: 1.3666 - val_accuracy: 0.4793\n",
            "Epoch 26/100\n",
            "469/469 [==============================] - 2s 4ms/step - loss: 1.3637 - accuracy: 0.4699 - val_loss: 1.3664 - val_accuracy: 0.4698\n",
            "Epoch 27/100\n",
            "469/469 [==============================] - 2s 4ms/step - loss: 1.3619 - accuracy: 0.4716 - val_loss: 1.3726 - val_accuracy: 0.4694\n",
            "Epoch 28/100\n",
            "469/469 [==============================] - 1s 3ms/step - loss: 1.3638 - accuracy: 0.4674 - val_loss: 1.3791 - val_accuracy: 0.4647\n",
            "Epoch 29/100\n",
            "469/469 [==============================] - 2s 3ms/step - loss: 1.3627 - accuracy: 0.4717 - val_loss: 1.3639 - val_accuracy: 0.4768\n",
            "Epoch 30/100\n",
            "469/469 [==============================] - 1s 3ms/step - loss: 1.3603 - accuracy: 0.4726 - val_loss: 1.3599 - val_accuracy: 0.4747\n",
            "Epoch 31/100\n",
            "469/469 [==============================] - 2s 3ms/step - loss: 1.3589 - accuracy: 0.4716 - val_loss: 1.3684 - val_accuracy: 0.4734\n",
            "Epoch 32/100\n",
            "469/469 [==============================] - 1s 3ms/step - loss: 1.3558 - accuracy: 0.4740 - val_loss: 1.3784 - val_accuracy: 0.4655\n",
            "Epoch 33/100\n",
            "469/469 [==============================] - 1s 3ms/step - loss: 1.3570 - accuracy: 0.4738 - val_loss: 1.3715 - val_accuracy: 0.4784\n",
            "Epoch 34/100\n",
            "469/469 [==============================] - 2s 5ms/step - loss: 1.3557 - accuracy: 0.4744 - val_loss: 1.3687 - val_accuracy: 0.4722\n",
            "Epoch 35/100\n",
            "469/469 [==============================] - 2s 3ms/step - loss: 1.3560 - accuracy: 0.4733 - val_loss: 1.3592 - val_accuracy: 0.4767\n",
            "Epoch 36/100\n",
            "469/469 [==============================] - 2s 3ms/step - loss: 1.3541 - accuracy: 0.4748 - val_loss: 1.3561 - val_accuracy: 0.4773\n",
            "Epoch 37/100\n",
            "469/469 [==============================] - 2s 4ms/step - loss: 1.3545 - accuracy: 0.4739 - val_loss: 1.3564 - val_accuracy: 0.4821\n",
            "Epoch 38/100\n",
            "469/469 [==============================] - 2s 3ms/step - loss: 1.3486 - accuracy: 0.4778 - val_loss: 1.3614 - val_accuracy: 0.4775\n",
            "Epoch 39/100\n",
            "469/469 [==============================] - 2s 3ms/step - loss: 1.3530 - accuracy: 0.4758 - val_loss: 1.3531 - val_accuracy: 0.4780\n",
            "Epoch 40/100\n",
            "469/469 [==============================] - 1s 3ms/step - loss: 1.3525 - accuracy: 0.4755 - val_loss: 1.3475 - val_accuracy: 0.4827\n",
            "Epoch 41/100\n",
            "469/469 [==============================] - 2s 4ms/step - loss: 1.3504 - accuracy: 0.4761 - val_loss: 1.3502 - val_accuracy: 0.4789\n",
            "Epoch 42/100\n",
            "469/469 [==============================] - 2s 4ms/step - loss: 1.3485 - accuracy: 0.4771 - val_loss: 1.3621 - val_accuracy: 0.4691\n",
            "Epoch 43/100\n",
            "469/469 [==============================] - 1s 3ms/step - loss: 1.3483 - accuracy: 0.4769 - val_loss: 1.3556 - val_accuracy: 0.4753\n",
            "Epoch 44/100\n",
            "469/469 [==============================] - 1s 3ms/step - loss: 1.3478 - accuracy: 0.4778 - val_loss: 1.3690 - val_accuracy: 0.4731\n",
            "Epoch 45/100\n",
            "469/469 [==============================] - 1s 3ms/step - loss: 1.3463 - accuracy: 0.4781 - val_loss: 1.3682 - val_accuracy: 0.4667\n",
            "Epoch 46/100\n",
            "469/469 [==============================] - 1s 3ms/step - loss: 1.3512 - accuracy: 0.4766 - val_loss: 1.3469 - val_accuracy: 0.4810\n",
            "Epoch 47/100\n",
            "469/469 [==============================] - 1s 3ms/step - loss: 1.3480 - accuracy: 0.4772 - val_loss: 1.3623 - val_accuracy: 0.4749\n",
            "Epoch 48/100\n",
            "469/469 [==============================] - 1s 3ms/step - loss: 1.3466 - accuracy: 0.4777 - val_loss: 1.3466 - val_accuracy: 0.4810\n",
            "Epoch 49/100\n",
            "469/469 [==============================] - 2s 4ms/step - loss: 1.3445 - accuracy: 0.4781 - val_loss: 1.3496 - val_accuracy: 0.4855\n",
            "Epoch 50/100\n",
            "469/469 [==============================] - 2s 4ms/step - loss: 1.3424 - accuracy: 0.4827 - val_loss: 1.3446 - val_accuracy: 0.4865\n",
            "Epoch 51/100\n",
            "469/469 [==============================] - 1s 3ms/step - loss: 1.3467 - accuracy: 0.4786 - val_loss: 1.3439 - val_accuracy: 0.4841\n",
            "Epoch 52/100\n",
            "469/469 [==============================] - 1s 3ms/step - loss: 1.3447 - accuracy: 0.4802 - val_loss: 1.3481 - val_accuracy: 0.4837\n",
            "Epoch 53/100\n",
            "469/469 [==============================] - 1s 3ms/step - loss: 1.3443 - accuracy: 0.4780 - val_loss: 1.3494 - val_accuracy: 0.4705\n",
            "Epoch 54/100\n",
            "469/469 [==============================] - 2s 3ms/step - loss: 1.3455 - accuracy: 0.4800 - val_loss: 1.3534 - val_accuracy: 0.4844\n",
            "Epoch 55/100\n",
            "469/469 [==============================] - 1s 3ms/step - loss: 1.3426 - accuracy: 0.4814 - val_loss: 1.3385 - val_accuracy: 0.4882\n",
            "Epoch 56/100\n",
            "469/469 [==============================] - 1s 3ms/step - loss: 1.3403 - accuracy: 0.4812 - val_loss: 1.3420 - val_accuracy: 0.4813\n",
            "Epoch 57/100\n",
            "469/469 [==============================] - 2s 4ms/step - loss: 1.3395 - accuracy: 0.4818 - val_loss: 1.3469 - val_accuracy: 0.4775\n",
            "Epoch 58/100\n",
            "469/469 [==============================] - 2s 4ms/step - loss: 1.3430 - accuracy: 0.4806 - val_loss: 1.3645 - val_accuracy: 0.4746\n",
            "Epoch 59/100\n",
            "469/469 [==============================] - 1s 3ms/step - loss: 1.3414 - accuracy: 0.4809 - val_loss: 1.3403 - val_accuracy: 0.4868\n",
            "Epoch 60/100\n",
            "469/469 [==============================] - 1s 3ms/step - loss: 1.3411 - accuracy: 0.4820 - val_loss: 1.3427 - val_accuracy: 0.4832\n",
            "Epoch 61/100\n",
            "469/469 [==============================] - 1s 3ms/step - loss: 1.3407 - accuracy: 0.4825 - val_loss: 1.3391 - val_accuracy: 0.4825\n",
            "Epoch 62/100\n",
            "469/469 [==============================] - 1s 3ms/step - loss: 1.3394 - accuracy: 0.4806 - val_loss: 1.3391 - val_accuracy: 0.4864\n",
            "Epoch 63/100\n",
            "469/469 [==============================] - 1s 3ms/step - loss: 1.3408 - accuracy: 0.4818 - val_loss: 1.3449 - val_accuracy: 0.4816\n",
            "Epoch 64/100\n",
            "469/469 [==============================] - 1s 3ms/step - loss: 1.3381 - accuracy: 0.4835 - val_loss: 1.3456 - val_accuracy: 0.4850\n",
            "Epoch 65/100\n",
            "469/469 [==============================] - 2s 4ms/step - loss: 1.3404 - accuracy: 0.4825 - val_loss: 1.3416 - val_accuracy: 0.4826\n",
            "Epoch 66/100\n",
            "469/469 [==============================] - 2s 4ms/step - loss: 1.3367 - accuracy: 0.4845 - val_loss: 1.3426 - val_accuracy: 0.4759\n",
            "Epoch 67/100\n",
            "469/469 [==============================] - 2s 3ms/step - loss: 1.3396 - accuracy: 0.4834 - val_loss: 1.3558 - val_accuracy: 0.4744\n",
            "Epoch 68/100\n",
            "469/469 [==============================] - 1s 3ms/step - loss: 1.3406 - accuracy: 0.4830 - val_loss: 1.3335 - val_accuracy: 0.4871\n",
            "Epoch 69/100\n",
            "469/469 [==============================] - 2s 3ms/step - loss: 1.3398 - accuracy: 0.4820 - val_loss: 1.3320 - val_accuracy: 0.4917\n",
            "Epoch 70/100\n",
            "469/469 [==============================] - 1s 3ms/step - loss: 1.3370 - accuracy: 0.4854 - val_loss: 1.3413 - val_accuracy: 0.4883\n",
            "Epoch 71/100\n",
            "469/469 [==============================] - 2s 3ms/step - loss: 1.3373 - accuracy: 0.4831 - val_loss: 1.3377 - val_accuracy: 0.4837\n",
            "Epoch 72/100\n",
            "469/469 [==============================] - 2s 3ms/step - loss: 1.3363 - accuracy: 0.4836 - val_loss: 1.3531 - val_accuracy: 0.4852\n",
            "Epoch 73/100\n",
            "469/469 [==============================] - 2s 4ms/step - loss: 1.3356 - accuracy: 0.4848 - val_loss: 1.3448 - val_accuracy: 0.4811\n",
            "Epoch 74/100\n",
            "469/469 [==============================] - 2s 3ms/step - loss: 1.3380 - accuracy: 0.4835 - val_loss: 1.3464 - val_accuracy: 0.4825\n",
            "Epoch 75/100\n",
            "469/469 [==============================] - 1s 3ms/step - loss: 1.3350 - accuracy: 0.4850 - val_loss: 1.3371 - val_accuracy: 0.4883\n",
            "Epoch 76/100\n",
            "469/469 [==============================] - 1s 3ms/step - loss: 1.3333 - accuracy: 0.4853 - val_loss: 1.3387 - val_accuracy: 0.4820\n",
            "Epoch 77/100\n",
            "469/469 [==============================] - 1s 3ms/step - loss: 1.3371 - accuracy: 0.4805 - val_loss: 1.3311 - val_accuracy: 0.4871\n",
            "Epoch 78/100\n",
            "469/469 [==============================] - 2s 3ms/step - loss: 1.3326 - accuracy: 0.4863 - val_loss: 1.3408 - val_accuracy: 0.4780\n",
            "Epoch 79/100\n",
            "469/469 [==============================] - 1s 3ms/step - loss: 1.3358 - accuracy: 0.4837 - val_loss: 1.3439 - val_accuracy: 0.4874\n",
            "Epoch 80/100\n",
            "469/469 [==============================] - 2s 3ms/step - loss: 1.3345 - accuracy: 0.4855 - val_loss: 1.3576 - val_accuracy: 0.4725\n",
            "Epoch 81/100\n",
            "469/469 [==============================] - 2s 4ms/step - loss: 1.3334 - accuracy: 0.4854 - val_loss: 1.3445 - val_accuracy: 0.4794\n",
            "Epoch 82/100\n",
            "469/469 [==============================] - 1s 3ms/step - loss: 1.3358 - accuracy: 0.4841 - val_loss: 1.3283 - val_accuracy: 0.4941\n",
            "Epoch 83/100\n",
            "469/469 [==============================] - 2s 4ms/step - loss: 1.3320 - accuracy: 0.4873 - val_loss: 1.3468 - val_accuracy: 0.4866\n",
            "Epoch 84/100\n",
            "469/469 [==============================] - 2s 3ms/step - loss: 1.3337 - accuracy: 0.4860 - val_loss: 1.3702 - val_accuracy: 0.4658\n",
            "Epoch 85/100\n",
            "469/469 [==============================] - 1s 3ms/step - loss: 1.3320 - accuracy: 0.4864 - val_loss: 1.3249 - val_accuracy: 0.4927\n",
            "Epoch 86/100\n",
            "469/469 [==============================] - 2s 4ms/step - loss: 1.3338 - accuracy: 0.4864 - val_loss: 1.3422 - val_accuracy: 0.4804\n",
            "Epoch 87/100\n",
            "469/469 [==============================] - 1s 3ms/step - loss: 1.3343 - accuracy: 0.4836 - val_loss: 1.3274 - val_accuracy: 0.4919\n",
            "Epoch 88/100\n",
            "469/469 [==============================] - 2s 4ms/step - loss: 1.3317 - accuracy: 0.4870 - val_loss: 1.3242 - val_accuracy: 0.4899\n",
            "Epoch 89/100\n",
            "469/469 [==============================] - 2s 4ms/step - loss: 1.3299 - accuracy: 0.4885 - val_loss: 1.3415 - val_accuracy: 0.4828\n",
            "Epoch 90/100\n",
            "469/469 [==============================] - 2s 3ms/step - loss: 1.3304 - accuracy: 0.4863 - val_loss: 1.3497 - val_accuracy: 0.4816\n",
            "Epoch 91/100\n",
            "469/469 [==============================] - 2s 3ms/step - loss: 1.3288 - accuracy: 0.4884 - val_loss: 1.3287 - val_accuracy: 0.4837\n",
            "Epoch 92/100\n",
            "469/469 [==============================] - 1s 3ms/step - loss: 1.3301 - accuracy: 0.4858 - val_loss: 1.3265 - val_accuracy: 0.4911\n",
            "Epoch 93/100\n",
            "469/469 [==============================] - 1s 3ms/step - loss: 1.3345 - accuracy: 0.4851 - val_loss: 1.3357 - val_accuracy: 0.4850\n",
            "Epoch 94/100\n",
            "469/469 [==============================] - 1s 3ms/step - loss: 1.3316 - accuracy: 0.4859 - val_loss: 1.3244 - val_accuracy: 0.4899\n",
            "Epoch 95/100\n",
            "469/469 [==============================] - 2s 3ms/step - loss: 1.3308 - accuracy: 0.4888 - val_loss: 1.3377 - val_accuracy: 0.4894\n",
            "Epoch 96/100\n",
            "469/469 [==============================] - 2s 5ms/step - loss: 1.3281 - accuracy: 0.4875 - val_loss: 1.3303 - val_accuracy: 0.4928\n",
            "Epoch 97/100\n",
            "469/469 [==============================] - 2s 4ms/step - loss: 1.3287 - accuracy: 0.4886 - val_loss: 1.3323 - val_accuracy: 0.4787\n",
            "Epoch 98/100\n",
            "469/469 [==============================] - 2s 3ms/step - loss: 1.3312 - accuracy: 0.4873 - val_loss: 1.3268 - val_accuracy: 0.4912\n",
            "Epoch 99/100\n",
            "469/469 [==============================] - 2s 3ms/step - loss: 1.3263 - accuracy: 0.4890 - val_loss: 1.3315 - val_accuracy: 0.5000\n",
            "Epoch 100/100\n",
            "469/469 [==============================] - 2s 3ms/step - loss: 1.3299 - accuracy: 0.4890 - val_loss: 1.3265 - val_accuracy: 0.4896\n"
          ]
        },
        {
          "output_type": "execute_result",
          "data": {
            "text/plain": [
              "<keras.src.callbacks.History at 0x7816d7f26080>"
            ]
          },
          "metadata": {},
          "execution_count": 7
        }
      ]
    },
    {
      "cell_type": "code",
      "source": [
        "# Evaluate model\n",
        "test_loss,test_accuracy = classifier.evaluate(encoded_test_features,y_test)\n",
        "print(f\"Test accuracy : {test_accuracy}\")"
      ],
      "metadata": {
        "colab": {
          "base_uri": "https://localhost:8080/"
        },
        "id": "8YvYiGn2PaPm",
        "outputId": "853e3331-d1c4-4c88-d73b-38cd3c57f5ce"
      },
      "execution_count": 8,
      "outputs": [
        {
          "output_type": "stream",
          "name": "stdout",
          "text": [
            "313/313 [==============================] - 2s 5ms/step - loss: 1.3265 - accuracy: 0.4896\n",
            "Test accuracy : 0.4896000027656555\n"
          ]
        }
      ]
    },
    {
      "cell_type": "code",
      "source": [],
      "metadata": {
        "id": "IqoE0gkXKuF5"
      },
      "execution_count": null,
      "outputs": []
    }
  ]
}